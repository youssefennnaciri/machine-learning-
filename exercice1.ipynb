import tensorflow as tf
import numpy as np
from tensorflow import keras
model = tf.keras.Sequential([keras.layers.Dense(units=1, input_shape=[1])])
model.compile(optimizer='sgd', loss='mean_squared_error')
xs = np.array([-1, 0, 1, 2, 3, 4], dtype=int)
ys = np.array([-2, 1, 4, 7, 10, 13], dtype=int)
print("donnez le une nombre de x :")
nombre = input()
nombre1 = int(nombre)
model.fit(xs, ys, epochs=50)
print(model.predict([nombre1]))
